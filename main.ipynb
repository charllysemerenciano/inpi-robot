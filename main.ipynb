{
 "cells": [
  {
   "cell_type": "markdown",
   "metadata": {
    "collapsed": true,
    "pycharm": {
     "name": "#%% md\n"
    }
   },
   "source": [
    "# Importações"
   ]
  },
  {
   "cell_type": "code",
   "execution_count": 36,
   "outputs": [],
   "source": [
    "from selenium import webdriver\n",
    "import mysql.connector\n",
    "from mysql.connector import errorcode\n"
   ],
   "metadata": {
    "collapsed": false,
    "pycharm": {
     "name": "#%%\n"
    }
   }
  },
  {
   "cell_type": "markdown",
   "source": [
    "# Funções\n",
    "\n",
    "### conexão MySQL"
   ],
   "metadata": {
    "collapsed": false,
    "pycharm": {
     "name": "#%% md\n"
    }
   }
  },
  {
   "cell_type": "code",
   "execution_count": 37,
   "outputs": [],
   "source": [
    "def conecta():\n",
    "    try:\n",
    "        global conexao\n",
    "        conexao = mysql.connector.connect(\n",
    "          host=\"localhost\", #ip\n",
    "          user=\"root\", #usuario\n",
    "          password=\"123456\", #senha\n",
    "          database=\"inpi\" #banco\n",
    "        )\n",
    "        global cursor\n",
    "        cursor = conexao.cursor()\n",
    "\n",
    "    except mysql.connector.Error as error:\n",
    "        if error.errno == errorcode.ER_BAD_DB_ERROR:\n",
    "            print(\"Banco de dados não existe\")\n",
    "        elif error.errno == errorcode.ER_ACCESS_DENIED_ERROR:\n",
    "            print(\"Usuario ou senha incorretos\")\n",
    "        else:\n",
    "            print(error)\n",
    "        return False\n",
    "    else:\n",
    "        print(\"Conexão realizada com sucesso\")\n",
    "        return True"
   ],
   "metadata": {
    "collapsed": false,
    "pycharm": {
     "name": "#%%\n"
    }
   }
  },
  {
   "cell_type": "markdown",
   "source": [
    "### Recupera uma faixa para trabalhar\n",
    "A = Aberta /\n",
    "P = Processando /\n",
    "F = Finalizada /\n",
    "M = Em manutenção"
   ],
   "metadata": {
    "collapsed": false
   }
  },
  {
   "cell_type": "code",
   "execution_count": 38,
   "outputs": [],
   "source": [
    "def faixa():\n",
    "    sql = \"select Id, Inicio, Fim, Progresso from tb_faixas where Status = 'A' LIMIT 1\"\n",
    "    cursor.execute(sql)\n",
    "    fx = cursor.fetchone()\n",
    "\n",
    "    global idFaixa\n",
    "    idFaixa = fx[0]\n",
    "    global inicio\n",
    "    inicio = fx[1]\n",
    "    global total\n",
    "    total = fx[2]\n",
    "    global progresso\n",
    "    progresso = fx[3]\n"
   ],
   "metadata": {
    "collapsed": false,
    "pycharm": {
     "name": "#%%\n"
    }
   }
  },
  {
   "cell_type": "markdown",
   "source": [
    "### Atualiza faixa para não haver conflitos"
   ],
   "metadata": {
    "collapsed": false,
    "pycharm": {
     "name": "#%% md\n"
    }
   }
  },
  {
   "cell_type": "code",
   "execution_count": 39,
   "outputs": [],
   "source": [
    "def attFaixa():\n",
    "    sql = \"update tb_faixas set Status = 'P' where Id = \" + str(idFaixa)\n",
    "    cursor.execute(sql)\n",
    "\n",
    "    conexao.commit()\n"
   ],
   "metadata": {
    "collapsed": false,
    "pycharm": {
     "name": "#%%\n"
    }
   }
  },
  {
   "cell_type": "markdown",
   "source": [
    "### Configura driver e inicia"
   ],
   "metadata": {
    "collapsed": false,
    "pycharm": {
     "name": "#%% md\n"
    }
   }
  },
  {
   "cell_type": "code",
   "execution_count": 40,
   "outputs": [],
   "source": [
    "def browser():\n",
    "    options = webdriver.ChromeOptions()\n",
    "    options.add_argument('ignore-certificate-errors')\n",
    "    global driver\n",
    "    driver = webdriver.Chrome(chrome_options=options)\n"
   ],
   "metadata": {
    "collapsed": false,
    "pycharm": {
     "name": "#%%\n"
    }
   }
  },
  {
   "cell_type": "markdown",
   "source": [
    "### Inicia processo de autenticação para inicio da mineração\n"
   ],
   "metadata": {
    "collapsed": false
   }
  },
  {
   "cell_type": "code",
   "execution_count": 41,
   "outputs": [],
   "source": [
    "def autentica():\n",
    "    driver.get(\"https://gru.inpi.gov.br/pePI/servlet/LoginController?action=login\")\n",
    "    driver.get(\"https://gru.inpi.gov.br/pePI/jsp/marcas/Pesquisa_classe_basica.jsp\")\n",
    "    input_marca = driver.find_element_by_name(\"marca\")\n",
    "    input_marca.send_keys(\"teste\")\n",
    "\n",
    "    submit_button = driver.find_element_by_name(\"botao\")\n",
    "    submit_button.click()"
   ],
   "metadata": {
    "collapsed": false,
    "pycharm": {
     "name": "#%%\n"
    }
   }
  },
  {
   "cell_type": "markdown",
   "source": [
    "# Inicio Mineração"
   ],
   "metadata": {
    "collapsed": false,
    "pycharm": {
     "name": "#%% md\n"
    }
   }
  },
  {
   "cell_type": "code",
   "execution_count": null,
   "outputs": [
    {
     "name": "stdout",
     "output_type": "stream",
     "text": [
      "Conexão realizada com sucesso\n"
     ]
    },
    {
     "name": "stderr",
     "output_type": "stream",
     "text": [
      "<ipython-input-40-fe5f3451e6d1>:5: DeprecationWarning: use options instead of chrome_options\n",
      "  driver = webdriver.Chrome(chrome_options=options)\n"
     ]
    }
   ],
   "source": [
    "if conecta():\n",
    "\n",
    "    faixa()\n",
    "    attFaixa()\n",
    "    browser()\n",
    "    autentica()\n",
    "\n",
    "    for n in range(progresso,total):\n",
    "        uri = \"https://gru.inpi.gov.br/pePI/servlet/MarcasServletController?Action=detail&CodPedido=\" + str(n)\n",
    "        driver.get(uri)\n",
    "\n",
    "#"
   ],
   "metadata": {
    "collapsed": false,
    "pycharm": {
     "name": "#%%\n",
     "is_executing": true
    }
   }
  }
 ],
 "metadata": {
  "kernelspec": {
   "display_name": "Python 3",
   "language": "python",
   "name": "python3"
  },
  "language_info": {
   "codemirror_mode": {
    "name": "ipython",
    "version": 2
   },
   "file_extension": ".py",
   "mimetype": "text/x-python",
   "name": "python",
   "nbconvert_exporter": "python",
   "pygments_lexer": "ipython2",
   "version": "2.7.6"
  }
 },
 "nbformat": 4,
 "nbformat_minor": 0
}