{
 "cells": [
  {
   "cell_type": "markdown",
   "metadata": {
    "collapsed": true,
    "pycharm": {
     "name": "#%% md\n"
    }
   },
   "source": [
    "### Importações"
   ]
  },
  {
   "cell_type": "code",
   "execution_count": 10,
   "outputs": [],
   "source": [
    "from selenium import webdriver\n",
    "import mysql.connector\n",
    "from mysql.connector import errorcode"
   ],
   "metadata": {
    "collapsed": false,
    "pycharm": {
     "name": "#%%\n"
    }
   }
  },
  {
   "cell_type": "markdown",
   "source": [
    "### Variaveis Globais"
   ],
   "metadata": {
    "collapsed": false,
    "pycharm": {
     "name": "#%% md\n"
    }
   }
  },
  {
   "cell_type": "code",
   "execution_count": 11,
   "outputs": [],
   "source": [
    "global conexao"
   ],
   "metadata": {
    "collapsed": false,
    "pycharm": {
     "name": "#%%\n"
    }
   }
  },
  {
   "cell_type": "markdown",
   "source": [
    "### Conexão MySQL"
   ],
   "metadata": {
    "collapsed": false
   }
  },
  {
   "cell_type": "code",
   "execution_count": 32,
   "outputs": [
    {
     "name": "stdout",
     "output_type": "stream",
     "text": [
      "Conexão realizada com sucesso\n"
     ]
    }
   ],
   "source": [
    "try:\n",
    "    conexao = mysql.connector.connect(\n",
    "      host=\"localhost\", #ip\n",
    "      user=\"root\", #usuario\n",
    "      password=\"123456\", #senha\n",
    "      database=\"inpi\" #banco\n",
    "    )\n",
    "except mysql.connector.Error as error:\n",
    "    if error.errno == errorcode.ER_BAD_DB_ERROR:\n",
    "        print(\"Banco de dados não existe\")\n",
    "    elif error.errno == errorcode.ER_ACCESS_DENIED_ERROR:\n",
    "        print(\"Usuario ou senha incorretos\")\n",
    "    else:\n",
    "        print(error)\n",
    "else:\n",
    "    print(\"Conexão realizada com sucesso\")"
   ],
   "metadata": {
    "collapsed": false,
    "pycharm": {
     "name": "#%%\n"
    }
   }
  },
  {
   "cell_type": "markdown",
   "source": [
    "### Recupera uma faixa com status A para trabalhar\n",
    "```\n",
    "A = Aberta\n",
    "P = Processando\n",
    "F = Finalizada\n",
    "M = Em manutenção\n",
    "```"
   ],
   "metadata": {
    "collapsed": false,
    "pycharm": {
     "name": "#%% md\n"
    }
   }
  },
  {
   "cell_type": "code",
   "execution_count": 33,
   "outputs": [
    {
     "name": "stdout",
     "output_type": "stream",
     "text": [
      "(1, 1, 10000, 1, 'A')\n"
     ]
    }
   ],
   "source": [
    "cursor = conexao.cursor()\n",
    "\n",
    "sql = \"select * from tb_faixas where Status = 'A' LIMIT 1\"\n",
    "cursor.execute(sql)\n",
    "\n",
    "faixa = cursor.fetchone()\n",
    "\n",
    "print(faixa)"
   ],
   "metadata": {
    "collapsed": false,
    "pycharm": {
     "name": "#%%\n"
    }
   }
  },
  {
   "cell_type": "code",
   "execution_count": null,
   "outputs": [],
   "source": [
    "options = webdriver.ChromeOptions()\n",
    "options.add_argument('ignore-certificate-errors')\n",
    "driver = webdriver.Chrome(chrome_options=options)"
   ],
   "metadata": {
    "collapsed": false,
    "pycharm": {
     "name": "#%%\n"
    }
   }
  },
  {
   "cell_type": "markdown",
   "source": [],
   "metadata": {
    "collapsed": false
   }
  }
 ],
 "metadata": {
  "kernelspec": {
   "display_name": "Python 3",
   "language": "python",
   "name": "python3"
  },
  "language_info": {
   "codemirror_mode": {
    "name": "ipython",
    "version": 2
   },
   "file_extension": ".py",
   "mimetype": "text/x-python",
   "name": "python",
   "nbconvert_exporter": "python",
   "pygments_lexer": "ipython2",
   "version": "2.7.6"
  }
 },
 "nbformat": 4,
 "nbformat_minor": 0
}