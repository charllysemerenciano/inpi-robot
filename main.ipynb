{
 "cells": [
  {
   "cell_type": "markdown",
   "metadata": {
    "collapsed": true,
    "pycharm": {
     "name": "#%% md\n"
    }
   },
   "source": [
    "# Importações"
   ]
  },
  {
   "cell_type": "code",
   "execution_count": 28,
   "outputs": [],
   "source": [
    "from selenium import webdriver\n",
    "import mysql.connector\n",
    "from mysql.connector import errorcode\n"
   ],
   "metadata": {
    "collapsed": false,
    "pycharm": {
     "name": "#%%\n"
    }
   }
  },
  {
   "cell_type": "markdown",
   "source": [
    "# Funções\n",
    "\n",
    "### conexão MySQL"
   ],
   "metadata": {
    "collapsed": false,
    "pycharm": {
     "name": "#%% md\n"
    }
   }
  },
  {
   "cell_type": "code",
   "execution_count": 7,
   "outputs": [],
   "source": [
    "def conecta():\n",
    "    try:\n",
    "        global conexao\n",
    "        conexao = mysql.connector.connect(\n",
    "          host=\"localhost\", #ip\n",
    "          user=\"root\", #usuario\n",
    "          password=\"123456\", #senha\n",
    "          database=\"inpi\" #banco\n",
    "        )\n",
    "        global cursor\n",
    "        cursor = conexao.cursor()\n",
    "\n",
    "    except mysql.connector.Error as error:\n",
    "        if error.errno == errorcode.ER_BAD_DB_ERROR:\n",
    "            print(\"Banco de dados não existe\")\n",
    "        elif error.errno == errorcode.ER_ACCESS_DENIED_ERROR:\n",
    "            print(\"Usuario ou senha incorretos\")\n",
    "        else:\n",
    "            print(error)\n",
    "        return False\n",
    "    else:\n",
    "        print(\"Conexão realizada com sucesso\")\n",
    "        return True"
   ],
   "metadata": {
    "collapsed": false,
    "pycharm": {
     "name": "#%%\n"
    }
   }
  },
  {
   "cell_type": "markdown",
   "source": [
    "# Recupera uma faixa para trabalhar\n",
    "A = Aberta /\n",
    "P = Processando /\n",
    "F = Finalizada /\n",
    "M = Em manutenção"
   ],
   "metadata": {
    "collapsed": false
   }
  },
  {
   "cell_type": "code",
   "execution_count": 8,
   "outputs": [],
   "source": [
    "def faixa():\n",
    "    sql = \"select Id, Inicio, Fim, Progresso from tb_faixas where Status = 'A' LIMIT 1\"\n",
    "    cursor.execute(sql)\n",
    "    fx = cursor.fetchone()\n",
    "\n",
    "    global idFaixa\n",
    "    idFaixa = fx[0]\n",
    "    global inicio\n",
    "    inicio = fx[1]\n",
    "    global total\n",
    "    total = fx[2]\n",
    "    global progresso\n",
    "    progresso = fx[3]\n"
   ],
   "metadata": {
    "collapsed": false,
    "pycharm": {
     "name": "#%%\n"
    }
   }
  },
  {
   "cell_type": "markdown",
   "source": [
    "### Atualiza faixa para não haver conflitos"
   ],
   "metadata": {
    "collapsed": false,
    "pycharm": {
     "name": "#%% md\n"
    }
   }
  },
  {
   "cell_type": "code",
   "execution_count": 9,
   "outputs": [],
   "source": [
    "def attFaixa():\n",
    "    sql = \"update tb_faixas set Status = 'P' where Id = \" + str(idFaixa)\n",
    "    cursor.execute(sql)\n",
    "\n",
    "    conexao.commit()\n"
   ],
   "metadata": {
    "collapsed": false,
    "pycharm": {
     "name": "#%%\n"
    }
   }
  },
  {
   "cell_type": "markdown",
   "source": [
    "### Configura driver e inicia"
   ],
   "metadata": {
    "collapsed": false,
    "pycharm": {
     "name": "#%% md\n"
    }
   }
  },
  {
   "cell_type": "code",
   "execution_count": 10,
   "outputs": [],
   "source": [
    "def browser():\n",
    "    options = webdriver.ChromeOptions()\n",
    "    options.add_argument('ignore-certificate-errors')\n",
    "    global driver\n",
    "    driver = webdriver.Chrome(chrome_options=options)\n"
   ],
   "metadata": {
    "collapsed": false,
    "pycharm": {
     "name": "#%%\n"
    }
   }
  },
  {
   "cell_type": "markdown",
   "source": [
    "### Inicia processo de autenticação para inicio da mineração\n"
   ],
   "metadata": {
    "collapsed": false
   }
  },
  {
   "cell_type": "code",
   "execution_count": 11,
   "outputs": [],
   "source": [
    "def autentica():\n",
    "    driver.get(\"https://gru.inpi.gov.br/pePI/servlet/LoginController?action=login\")\n",
    "    driver.get(\"https://gru.inpi.gov.br/pePI/jsp/marcas/Pesquisa_classe_basica.jsp\")\n",
    "    input_marca = driver.find_element_by_name(\"marca\")\n",
    "    input_marca.send_keys(\"teste\")\n",
    "\n",
    "    submit_button = driver.find_element_by_name(\"botao\")\n",
    "    submit_button.click()"
   ],
   "metadata": {
    "collapsed": false,
    "pycharm": {
     "name": "#%%\n"
    }
   }
  },
  {
   "cell_type": "markdown",
   "source": [
    "# Inicio Mineração"
   ],
   "metadata": {
    "collapsed": false,
    "pycharm": {
     "name": "#%% md\n"
    }
   }
  },
  {
   "cell_type": "code",
   "execution_count": 35,
   "outputs": [
    {
     "name": "stdout",
     "output_type": "stream",
     "text": [
      "Conexão realizada com sucesso\n"
     ]
    },
    {
     "name": "stderr",
     "output_type": "stream",
     "text": [
      "<ipython-input-10-fe5f3451e6d1>:5: DeprecationWarning: use options instead of chrome_options\n",
      "  driver = webdriver.Chrome(chrome_options=options)\n"
     ]
    },
    {
     "ename": "NoSuchWindowException",
     "evalue": "Message: no such window: target window already closed\nfrom unknown error: web view not found\n  (Session info: chrome=87.0.4280.88)\n",
     "output_type": "error",
     "traceback": [
      "\u001B[1;31m---------------------------------------------------------------------------\u001B[0m",
      "\u001B[1;31mNoSuchWindowException\u001B[0m                     Traceback (most recent call last)",
      "\u001B[1;32m<ipython-input-35-00a8f528acbc>\u001B[0m in \u001B[0;36m<module>\u001B[1;34m\u001B[0m\n\u001B[0;32m      8\u001B[0m     \u001B[1;32mfor\u001B[0m \u001B[0mn\u001B[0m \u001B[1;32min\u001B[0m \u001B[0mrange\u001B[0m\u001B[1;33m(\u001B[0m\u001B[0mprogresso\u001B[0m\u001B[1;33m,\u001B[0m\u001B[0mtotal\u001B[0m\u001B[1;33m)\u001B[0m\u001B[1;33m:\u001B[0m\u001B[1;33m\u001B[0m\u001B[1;33m\u001B[0m\u001B[0m\n\u001B[0;32m      9\u001B[0m         \u001B[0muri\u001B[0m \u001B[1;33m=\u001B[0m \u001B[1;34m\"https://gru.inpi.gov.br/pePI/servlet/MarcasServletController?Action=detail&CodPedido=\"\u001B[0m \u001B[1;33m+\u001B[0m \u001B[0mstr\u001B[0m\u001B[1;33m(\u001B[0m\u001B[0mn\u001B[0m\u001B[1;33m)\u001B[0m\u001B[1;33m\u001B[0m\u001B[1;33m\u001B[0m\u001B[0m\n\u001B[1;32m---> 10\u001B[1;33m         \u001B[0mdriver\u001B[0m\u001B[1;33m.\u001B[0m\u001B[0mget\u001B[0m\u001B[1;33m(\u001B[0m\u001B[0muri\u001B[0m\u001B[1;33m)\u001B[0m\u001B[1;33m\u001B[0m\u001B[1;33m\u001B[0m\u001B[0m\n\u001B[0m\u001B[0;32m     11\u001B[0m \u001B[1;33m\u001B[0m\u001B[0m\n\u001B[0;32m     12\u001B[0m \u001B[1;31m#\u001B[0m\u001B[1;33m\u001B[0m\u001B[1;33m\u001B[0m\u001B[1;33m\u001B[0m\u001B[0m\n",
      "\u001B[1;32mc:\\program files\\python\\python39\\lib\\site-packages\\selenium\\webdriver\\remote\\webdriver.py\u001B[0m in \u001B[0;36mget\u001B[1;34m(self, url)\u001B[0m\n\u001B[0;32m    331\u001B[0m         \u001B[0mLoads\u001B[0m \u001B[0ma\u001B[0m \u001B[0mweb\u001B[0m \u001B[0mpage\u001B[0m \u001B[1;32min\u001B[0m \u001B[0mthe\u001B[0m \u001B[0mcurrent\u001B[0m \u001B[0mbrowser\u001B[0m \u001B[0msession\u001B[0m\u001B[1;33m.\u001B[0m\u001B[1;33m\u001B[0m\u001B[1;33m\u001B[0m\u001B[0m\n\u001B[0;32m    332\u001B[0m         \"\"\"\n\u001B[1;32m--> 333\u001B[1;33m         \u001B[0mself\u001B[0m\u001B[1;33m.\u001B[0m\u001B[0mexecute\u001B[0m\u001B[1;33m(\u001B[0m\u001B[0mCommand\u001B[0m\u001B[1;33m.\u001B[0m\u001B[0mGET\u001B[0m\u001B[1;33m,\u001B[0m \u001B[1;33m{\u001B[0m\u001B[1;34m'url'\u001B[0m\u001B[1;33m:\u001B[0m \u001B[0murl\u001B[0m\u001B[1;33m}\u001B[0m\u001B[1;33m)\u001B[0m\u001B[1;33m\u001B[0m\u001B[1;33m\u001B[0m\u001B[0m\n\u001B[0m\u001B[0;32m    334\u001B[0m \u001B[1;33m\u001B[0m\u001B[0m\n\u001B[0;32m    335\u001B[0m     \u001B[1;33m@\u001B[0m\u001B[0mproperty\u001B[0m\u001B[1;33m\u001B[0m\u001B[1;33m\u001B[0m\u001B[0m\n",
      "\u001B[1;32mc:\\program files\\python\\python39\\lib\\site-packages\\selenium\\webdriver\\remote\\webdriver.py\u001B[0m in \u001B[0;36mexecute\u001B[1;34m(self, driver_command, params)\u001B[0m\n\u001B[0;32m    319\u001B[0m         \u001B[0mresponse\u001B[0m \u001B[1;33m=\u001B[0m \u001B[0mself\u001B[0m\u001B[1;33m.\u001B[0m\u001B[0mcommand_executor\u001B[0m\u001B[1;33m.\u001B[0m\u001B[0mexecute\u001B[0m\u001B[1;33m(\u001B[0m\u001B[0mdriver_command\u001B[0m\u001B[1;33m,\u001B[0m \u001B[0mparams\u001B[0m\u001B[1;33m)\u001B[0m\u001B[1;33m\u001B[0m\u001B[1;33m\u001B[0m\u001B[0m\n\u001B[0;32m    320\u001B[0m         \u001B[1;32mif\u001B[0m \u001B[0mresponse\u001B[0m\u001B[1;33m:\u001B[0m\u001B[1;33m\u001B[0m\u001B[1;33m\u001B[0m\u001B[0m\n\u001B[1;32m--> 321\u001B[1;33m             \u001B[0mself\u001B[0m\u001B[1;33m.\u001B[0m\u001B[0merror_handler\u001B[0m\u001B[1;33m.\u001B[0m\u001B[0mcheck_response\u001B[0m\u001B[1;33m(\u001B[0m\u001B[0mresponse\u001B[0m\u001B[1;33m)\u001B[0m\u001B[1;33m\u001B[0m\u001B[1;33m\u001B[0m\u001B[0m\n\u001B[0m\u001B[0;32m    322\u001B[0m             response['value'] = self._unwrap_value(\n\u001B[0;32m    323\u001B[0m                 response.get('value', None))\n",
      "\u001B[1;32mc:\\program files\\python\\python39\\lib\\site-packages\\selenium\\webdriver\\remote\\errorhandler.py\u001B[0m in \u001B[0;36mcheck_response\u001B[1;34m(self, response)\u001B[0m\n\u001B[0;32m    240\u001B[0m                 \u001B[0malert_text\u001B[0m \u001B[1;33m=\u001B[0m \u001B[0mvalue\u001B[0m\u001B[1;33m[\u001B[0m\u001B[1;34m'alert'\u001B[0m\u001B[1;33m]\u001B[0m\u001B[1;33m.\u001B[0m\u001B[0mget\u001B[0m\u001B[1;33m(\u001B[0m\u001B[1;34m'text'\u001B[0m\u001B[1;33m)\u001B[0m\u001B[1;33m\u001B[0m\u001B[1;33m\u001B[0m\u001B[0m\n\u001B[0;32m    241\u001B[0m             \u001B[1;32mraise\u001B[0m \u001B[0mexception_class\u001B[0m\u001B[1;33m(\u001B[0m\u001B[0mmessage\u001B[0m\u001B[1;33m,\u001B[0m \u001B[0mscreen\u001B[0m\u001B[1;33m,\u001B[0m \u001B[0mstacktrace\u001B[0m\u001B[1;33m,\u001B[0m \u001B[0malert_text\u001B[0m\u001B[1;33m)\u001B[0m\u001B[1;33m\u001B[0m\u001B[1;33m\u001B[0m\u001B[0m\n\u001B[1;32m--> 242\u001B[1;33m         \u001B[1;32mraise\u001B[0m \u001B[0mexception_class\u001B[0m\u001B[1;33m(\u001B[0m\u001B[0mmessage\u001B[0m\u001B[1;33m,\u001B[0m \u001B[0mscreen\u001B[0m\u001B[1;33m,\u001B[0m \u001B[0mstacktrace\u001B[0m\u001B[1;33m)\u001B[0m\u001B[1;33m\u001B[0m\u001B[1;33m\u001B[0m\u001B[0m\n\u001B[0m\u001B[0;32m    243\u001B[0m \u001B[1;33m\u001B[0m\u001B[0m\n\u001B[0;32m    244\u001B[0m     \u001B[1;32mdef\u001B[0m \u001B[0m_value_or_default\u001B[0m\u001B[1;33m(\u001B[0m\u001B[0mself\u001B[0m\u001B[1;33m,\u001B[0m \u001B[0mobj\u001B[0m\u001B[1;33m,\u001B[0m \u001B[0mkey\u001B[0m\u001B[1;33m,\u001B[0m \u001B[0mdefault\u001B[0m\u001B[1;33m)\u001B[0m\u001B[1;33m:\u001B[0m\u001B[1;33m\u001B[0m\u001B[1;33m\u001B[0m\u001B[0m\n",
      "\u001B[1;31mNoSuchWindowException\u001B[0m: Message: no such window: target window already closed\nfrom unknown error: web view not found\n  (Session info: chrome=87.0.4280.88)\n"
     ]
    }
   ],
   "source": [
    "if conecta():\n",
    "\n",
    "    faixa()\n",
    "    attFaixa()\n",
    "    browser()\n",
    "    autentica()\n",
    "\n",
    "    for n in range(progresso,total):\n",
    "        uri = \"https://gru.inpi.gov.br/pePI/servlet/MarcasServletController?Action=detail&CodPedido=\" + str(n)\n",
    "        driver.get(uri)\n",
    "\n",
    "#"
   ],
   "metadata": {
    "collapsed": false,
    "pycharm": {
     "name": "#%%\n"
    }
   }
  }
 ],
 "metadata": {
  "kernelspec": {
   "display_name": "Python 3",
   "language": "python",
   "name": "python3"
  },
  "language_info": {
   "codemirror_mode": {
    "name": "ipython",
    "version": 2
   },
   "file_extension": ".py",
   "mimetype": "text/x-python",
   "name": "python",
   "nbconvert_exporter": "python",
   "pygments_lexer": "ipython2",
   "version": "2.7.6"
  }
 },
 "nbformat": 4,
 "nbformat_minor": 0
}